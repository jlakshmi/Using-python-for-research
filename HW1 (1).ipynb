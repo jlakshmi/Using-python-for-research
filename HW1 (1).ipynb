{
 "cells": [
  {
   "cell_type": "markdown",
   "metadata": {},
   "source": [
    "# Using Python for Research Homework: Week 1\n",
    "\n",
    "In this homework, we will use objects, functions, and randomness to find the length of documents, approximate $\\pi$, and smooth out random noise."
   ]
  },
  {
   "cell_type": "markdown",
   "metadata": {},
   "source": [
    "### Exercise 1\n",
    "\n",
    "In this five-part exercise, we will count the frequency of each letter in a given string.\n",
    "\n",
    "#### Exercise 1a\n",
    "\n",
    "- Import the `string` library.\n",
    "- Create a variable `alphabet` that consists of the lowercase and uppercase letters in the English alphabet using the `ascii_letters` data attribute of the `string` library."
   ]
  },
  {
   "cell_type": "code",
   "execution_count": 2,
   "metadata": {},
   "outputs": [
    {
     "name": "stdout",
     "output_type": "stream",
     "text": [
      "abcdefghijklmnopqrstuvwxyzABCDEFGHIJKLMNOPQRSTUVWXYZ\n"
     ]
    }
   ],
   "source": [
    "# write your code here!\n",
    "import string\n",
    "alphabet = string.ascii_letters\n",
    "print(alphabet)\n",
    "\n"
   ]
  },
  {
   "cell_type": "markdown",
   "metadata": {},
   "source": [
    "#### Exercise 1b\n",
    "- The lower and upper case letters of the English alphabet should stored as the string variable `alphabet`.\n",
    "- Consider the sentence 'Jim quickly realized that the beautiful gowns are expensive'. Create a dictionary `count_letters` with keys consisting of each unique letter in the sentence and values consisting of the number of times each letter is used in this sentence. Count upper case and lower case letters separately in the dictionary."
   ]
  },
  {
   "cell_type": "code",
   "execution_count": 3,
   "metadata": {},
   "outputs": [],
   "source": [
    "sentence = 'Jim quickly realized that the beautiful gowns are expensive'\n",
    "\n",
    "# write your code here!\n",
    "count_letters = {} #empty dictionary\n",
    "\n",
    "\n",
    "for letter in sentence: #iterates through every letter in sentence\n",
    "    \n",
    "    if letter in alphabet: #checks whether letter in in alphabet\n",
    "        \n",
    "        if letter in count_letters: #if letter is in the alphabet, it further checks whether it is already in the dictionary\n",
    "            \n",
    "            count_letters[letter] += 1 #If so, it's count value is incremented by 1\n",
    "\n",
    "        else:\n",
    "            \n",
    "            count_letters[letter] = 1"
   ]
  },
  {
   "cell_type": "code",
   "execution_count": 4,
   "metadata": {},
   "outputs": [
    {
     "name": "stdout",
     "output_type": "stream",
     "text": [
      "{'J': 1, 'i': 5, 'm': 1, 'q': 1, 'u': 3, 'c': 1, 'k': 1, 'l': 3, 'y': 1, 'r': 2, 'e': 8, 'a': 4, 'z': 1, 'd': 1, 't': 4, 'h': 2, 'b': 1, 'f': 1, 'g': 1, 'o': 1, 'w': 1, 'n': 2, 's': 2, 'x': 1, 'p': 1, 'v': 1}\n"
     ]
    }
   ],
   "source": [
    "print(count_letters)\n",
    "\n"
   ]
  },
  {
   "cell_type": "code",
   "execution_count": 6,
   "metadata": {},
   "outputs": [],
   "source": [
    " def counter(input_string):\n",
    "    count_letters = {}\n",
    "    for letter in input_string:\n",
    "        if letter in alphabet:\n",
    "            if letter in count_letters:\n",
    "                count_letters[letter] += 1\n",
    "            else:\n",
    "                count_letters[letter] = 1\n",
    "    return count_letters"
   ]
  },
  {
   "cell_type": "code",
   "execution_count": 5,
   "metadata": {},
   "outputs": [],
   "source": [
    "address = \"\"\"Four score and seven years ago our fathers brought forth on this continent, a new nation, conceived in Liberty, and dedicated to the proposition that all men are created equal. Now we are engaged in a great civil war, testing whether that nation, or any nation so conceived and so dedicated, can long endure. We are met on a great battle-field of that war. We have come to dedicate a portion of that field, as a final resting place for those who here gave their lives that that nation might live. It is altogether fitting and proper that we should do this. But, in a larger sense, we can not dedicate -- we can not consecrate -- we can not hallow -- this ground. The brave men, living and dead, who struggled here, have consecrated it, far above our poor power to add or detract. The world will little note, nor long remember what we say here, but it can never forget what they did here. It is for us the living, rather, to be dedicated here to the unfinished work which they who fought here have thus far so nobly advanced. It is rather for us to be here dedicated to the great task remaining before us -- that from these honored dead we take increased devotion to that cause for which they gave the last full measure of devotion -- that we here highly resolve that these dead shall not have died in vain -- that this nation, under God, shall have a new birth of freedom -- and that government of the people, by the people, for the people, shall not perish from the earth.\"\"\""
   ]
  },
  {
   "cell_type": "markdown",
   "metadata": {},
   "source": [
    "#### Exercise 1c\n",
    "- Rewrite your code from 1b to make a function called `counter` that takes a string `input_string` and returns a dictionary of letter counts `count_letters`.\n",
    "- Use your function to call `counter(sentence)`."
   ]
  },
  {
   "cell_type": "code",
   "execution_count": null,
   "metadata": {},
   "outputs": [],
   "source": [
    "# write your code here!\n"
   ]
  },
  {
   "cell_type": "markdown",
   "metadata": {},
   "source": [
    "#### Exercise 1d\n",
    "- Abraham Lincoln was a president during the American Civil War. His famous 1863 Gettysburg Address has been stored as `address`. Use the `counter` function from 1c to return a dictionary consisting of the count of each letter in this address and save it as `address_count`."
   ]
  },
  {
   "cell_type": "code",
   "execution_count": null,
   "metadata": {},
   "outputs": [],
   "source": [
    "address = \"\"\"Four score and seven years ago our fathers brought forth on this continent, a new nation, \n",
    "conceived in Liberty, and dedicated to the proposition that all men are created equal. Now we are engaged in a \n",
    "great civil war, testing whether that nation, or any nation so conceived and so dedicated, can long endure. \n",
    "We are met on a great battle-field of that war. We have come to dedicate a portion of that field, as a final \n",
    "resting place for those who here gave their lives that that nation might live. It is altogether fitting and proper \n",
    "that we should do this. But, in a larger sense, we can not dedicate -- we can not consecrate -- we can not hallow -- \n",
    "this ground. The brave men, living and dead, who struggled here, have consecrated it, far above our poor power to add \n",
    "or detract. The world will little note, nor long remember what we say here, but it can never forget what they did here. \n",
    "It is for us the living, rather, to be dedicated here to the unfinished work which they who fought here have thus far so \n",
    "nobly advanced. It is rather for us to be here dedicated to the great task remaining before us -- that from these honored \n",
    "dead we take increased devotion to that cause for which they gave the last full measure of devotion -- that we here \n",
    "highly resolve that these dead shall not have died in vain -- that this nation, under God, shall have a new birth of \n",
    "freedom -- and that government of the people, by the people, for the people, shall not perish from the earth.\"\"\"   \n",
    "\n",
    "# Write your code here!\n"
   ]
  },
  {
   "cell_type": "markdown",
   "metadata": {},
   "source": [
    "#### Exercise 1f\n",
    "- The frequency of each letter in the Gettysburg Address is already stored as `address_count`. Use this dictionary to find the most common letter in the Gettysburg address."
   ]
  },
  {
   "cell_type": "code",
   "execution_count": 7,
   "metadata": {},
   "outputs": [
    {
     "data": {
      "text/plain": [
       "{'F': 1,\n",
       " 'o': 93,\n",
       " 'u': 21,\n",
       " 'r': 79,\n",
       " 's': 44,\n",
       " 'c': 31,\n",
       " 'e': 165,\n",
       " 'a': 102,\n",
       " 'n': 76,\n",
       " 'd': 58,\n",
       " 'v': 24,\n",
       " 'y': 10,\n",
       " 'g': 27,\n",
       " 'f': 26,\n",
       " 't': 124,\n",
       " 'h': 80,\n",
       " 'b': 13,\n",
       " 'i': 65,\n",
       " 'w': 26,\n",
       " 'L': 1,\n",
       " 'p': 15,\n",
       " 'l': 41,\n",
       " 'm': 13,\n",
       " 'q': 1,\n",
       " 'N': 1,\n",
       " 'W': 2,\n",
       " 'I': 3,\n",
       " 'B': 1,\n",
       " 'T': 2,\n",
       " 'k': 3,\n",
       " 'G': 1}"
      ]
     },
     "execution_count": 7,
     "metadata": {},
     "output_type": "execute_result"
    }
   ],
   "source": [
    "# write your code here!\n",
    "counter(address)"
   ]
  },
  {
   "cell_type": "markdown",
   "metadata": {},
   "source": [
    "### Exercise 2\n",
    "\n",
    "Consider a circle inscribed in a square. The ratio of their areas (the ratio of the area of the circle to the area of the square) is $\\frac{\\pi}{4}$. In this six-part exercise, we will find a way to approximate this value.\n",
    "\n",
    "#### Exercise 2a\n",
    "- Using the `math` library, calculate and print the value of $\\frac{\\pi}{4}$"
   ]
  },
  {
   "cell_type": "code",
   "execution_count": 8,
   "metadata": {},
   "outputs": [
    {
     "name": "stdout",
     "output_type": "stream",
     "text": [
      "0.7853981633974483\n"
     ]
    }
   ],
   "source": [
    "# write your code here\n",
    "import math\n",
    "print(math.pi/4)"
   ]
  },
  {
   "cell_type": "markdown",
   "metadata": {},
   "source": [
    "#### Exercise 2b\n",
    "- Using `random.uniform()`, create a function `rand()` that generates a single float between $-1$ and $1$.\n",
    "- Call `rand()` once. For us to be able to check your solution, we will use `random.seed()` to fix the seed value of the random number generator."
   ]
  },
  {
   "cell_type": "code",
   "execution_count": 9,
   "metadata": {},
   "outputs": [
    {
     "data": {
      "text/plain": [
       "-0.7312715117751976"
      ]
     },
     "execution_count": 9,
     "metadata": {},
     "output_type": "execute_result"
    }
   ],
   "source": [
    "import random\n",
    "\n",
    "random.seed(1) # Fixes the see of the random number generator.\n",
    "\n",
    "import random\n",
    "\n",
    "random.seed(1) # This line fixes the value called by your function,\n",
    "               # and is used for answer-checking.\n",
    "\n",
    "def rand():\n",
    "   # define `rand` here!\n",
    "   \n",
    "   return random.uniform(-1,1)\n",
    "\n",
    "rand()"
   ]
  },
  {
   "cell_type": "markdown",
   "metadata": {},
   "source": [
    "#### Exercise 2c\n",
    "- The distance between two points x and y is the square root of the sum of squared differences along each dimension of x and y. Write a function` distance(x, y)` that takes two vectors as its input and outputs the distance between them. Use your function to find the distance between $x=(0,0)$ and $y=(1,1)$."
   ]
  },
  {
   "cell_type": "code",
   "execution_count": 10,
   "metadata": {},
   "outputs": [
    {
     "name": "stdout",
     "output_type": "stream",
     "text": [
      "1.4142135623730951\n"
     ]
    }
   ],
   "source": [
    "import math\n",
    "\n",
    "def distance(x, y):\n",
    "   # define your function here!\n",
    "   \n",
    "   \n",
    "   return math.sqrt((y[1]-x[1])**2 + (y[0]-x[0])**2)\n",
    "\n",
    "print(distance((0,0),(1,1)))"
   ]
  },
  {
   "cell_type": "markdown",
   "metadata": {},
   "source": [
    "#### Exercise 2d\n",
    "\n",
    "- Write a function `in_circle(x, origin)` that determines whether a point in a two dimensional plane falls within a unit circle surrounding a given origin.\n",
    "    - Your function should return a boolean `True` if the distance between `x` and `origin` is less than 1 and `False` otherwise.\n",
    "    - Use `distance(x, y)` as defined in 2c.\n",
    "- Use your function to determine whether the point (1,1) lies within the unit circle centered at (0,0)."
   ]
  },
  {
   "cell_type": "code",
   "execution_count": null,
   "metadata": {},
   "outputs": [],
   "source": [
    "def in_circle(x, origin = [0,0]):\n",
    "   # Define your function here!"
   ]
  },
  {
   "cell_type": "markdown",
   "metadata": {},
   "source": [
    "#### Exercise 2e\n",
    "\n",
    "- Create a list `inside` of `R=10000` booleans that determines whether or not a point falls within the unit circle centered at `(0,0)`. \n",
    "    - Use the `rand` function from 2b to generate `R` randomly located points.\n",
    "    - Use the function `in_circle` to test whether or not a given pint falls within the unit circle.\n",
    "- Find the proportion of points that fall within the circle by summing all `True` values in the `inside` list; then divide the answer by `R` to obtain a proportion.\n",
    "- Print your answer. This proportion is an estimate of the ratio of the two areas!"
   ]
  },
  {
   "cell_type": "code",
   "execution_count": 22,
   "metadata": {},
   "outputs": [
    {
     "name": "stdout",
     "output_type": "stream",
     "text": [
      "False\n"
     ]
    }
   ],
   "source": [
    "random.seed(1) \n",
    "def in_circle(x, origin = (0,0)): #Python, like other languages, provides support for default argument values, \n",
    "  #that is function arguments that can either be specified by the caller or left blank to automatically receive a predefined value.\n",
    "  #In our case here we pre-defined the origin of the unit circle to be (0,0)\n",
    "   return distance(x, origin) < 1\n",
    "\n",
    "print(in_circle((1,1),(0,0)))\n"
   ]
  },
  {
   "cell_type": "markdown",
   "metadata": {},
   "source": [
    "#### Exercise 2f\n",
    "\n",
    "- Find the difference between your estimate from part 2e and `math.pi / 4`. Note: `inside` and `R` are defined as in Exercise 2e."
   ]
  },
  {
   "cell_type": "code",
   "execution_count": 23,
   "metadata": {},
   "outputs": [
    {
     "name": "stdout",
     "output_type": "stream",
     "text": [
      "0.779\n"
     ]
    }
   ],
   "source": [
    "# write your code here!\n",
    "R = 10000\n",
    "x = [ (rand(), rand()) for i in range(R) ]\n",
    "inside = [ in_circle(p) for p in x ]\n",
    "print(sum(inside) / R)\n",
    "\n",
    "#------\n",
    "\n",
    "#another way to do it\n",
    "\n"
   ]
  },
  {
   "cell_type": "code",
   "execution_count": 24,
   "metadata": {},
   "outputs": [
    {
     "name": "stdout",
     "output_type": "stream",
     "text": [
      "0.006398163397448253\n"
     ]
    }
   ],
   "source": [
    "print( (math.pi / 4) - (sum(inside) / R) )"
   ]
  },
  {
   "cell_type": "markdown",
   "metadata": {},
   "source": [
    "### Exercise 3\n",
    "\n",
    "A list of numbers representing measurements obtained from a system of interest can often be noisy. One way to deal with noise to smoothen the values by replacing each value with the average of the value and the values of its neighbors.\n",
    "\n",
    "#### Exercise 3a\n",
    "\n",
    "- Write a function `moving_window_average(x, n_neighbors)` that takes a list `x` and the number of neighbors `n_neighbors` on either side of a given member of the list to consider.\n",
    "- For each value in `x`, `moving_window_average(x, n_neighbors)` computes the average of the value and the values of its neighbors.\n",
    "- `moving_window_average` should return a list of averaged values that is the same length as the original list.\n",
    "- If there are not enough neighbors (for cases near the edge), substitute the original value for a neighbor for each missing neighbor.\n",
    "- Use your function to find the moving window sum of `x=[0,10,5,3,1,5]` and `n_neighbors=1`."
   ]
  },
  {
   "cell_type": "code",
   "execution_count": 25,
   "metadata": {},
   "outputs": [
    {
     "name": "stdout",
     "output_type": "stream",
     "text": [
      "[3.3333333333333335, 5.0, 6.0, 3.0, 3.0, 3.6666666666666665]\n"
     ]
    }
   ],
   "source": [
    "import random\n",
    "\n",
    "random.seed(1) #Initialize the basic random number generator.\n",
    "\n",
    "def moving_window_average(x, n_neighbors=1):\n",
    "    n = len(x)\n",
    "    width = n_neighbors*2 + 1\n",
    "    x = [x[0]]*n_neighbors + x + [x[-1]]*n_neighbors\n",
    "    # To complete the function,\n",
    "    # return a list of the mean of values from i to i+width for all values i from 0 to n-1.\n",
    "    return [sum(x[i:(i+width)]) / width for i in range(n)]\n",
    "    \n",
    "    \n",
    "x=[0,10,5,3,1,5]\n",
    "print(moving_window_average(x, 1))\n",
    "\n",
    "#-------------------------------------------------"
   ]
  },
  {
   "cell_type": "markdown",
   "metadata": {},
   "source": [
    "#### Exercise 3b\n",
    "- Compute and store `R=1000` random values from 0-1 as `x`.\n",
    "- Compute the moving window average for `x` for values of `n_neighbors` ranging from 1 to 9 inclusive.\n",
    "- Store `x` as well as each of these averages as consecutive lists in a list called `Y`"
   ]
  },
  {
   "cell_type": "code",
   "execution_count": 26,
   "metadata": {},
   "outputs": [
    {
     "name": "stdout",
     "output_type": "stream",
     "text": [
      "10\n"
     ]
    }
   ],
   "source": [
    "random.seed(1) # This line fixes the value called by your function,\n",
    "               # and is used for answer-checking.\n",
    "    \n",
    "# write your code here!\n",
    "random.seed(1) # This line fixes the value called by your function,\n",
    "               # and is used for answer-checking.\n",
    "    \n",
    "# write your code here!\n",
    "    \n",
    "R = 1000\n",
    "x = [random.uniform(0, 1) for i in range(0, 1000)] #Return a random floating point number N such that\n",
    "   #a <= N <= b for a <= b \n",
    "   #and b <= N <= a for b < a.\n",
    "Y = [x] + [moving_window_average(x, n_neighbors) for n_neighbors in range(1, 10)]\n",
    "print(len(Y))\n",
    "#-------------------------------------------------\n"
   ]
  },
  {
   "cell_type": "markdown",
   "metadata": {},
   "source": [
    "moving_window_average(x,5)"
   ]
  },
  {
   "cell_type": "code",
   "execution_count": 27,
   "metadata": {},
   "outputs": [
    {
     "name": "stdout",
     "output_type": "stream",
     "text": [
      "[0.3288535452916686, 0.3758743388017015, 0.43536153034925723, 0.4316792887730603, 0.4220414008102969, 0.48580511533824855, 0.5129326447739442, 0.5051914034576452, 0.43594880658259944, 0.45325045824763405, 0.47380545327025597, 0.4537391947685936, 0.48043716957142624, 0.49068299743287813, 0.48493121527463434, 0.48466743204476664, 0.457908101942369, 0.5039428378399561, 0.4692995792245261, 0.48879897411357176, 0.48668346334338236, 0.4237289865464811, 0.423086208819443, 0.37696047228277485, 0.3400863617164445, 0.35849494964590084, 0.37716955696840293, 0.34783942647242044, 0.3042443631050771, 0.2959332155507383, 0.2781959708357652, 0.31596518902484294, 0.3639118740318944, 0.4021484828191135, 0.3792410893867631, 0.42439846854987356, 0.4813859302351205, 0.4713880591682862, 0.4817438908066899, 0.505551249156284, 0.5438612632567198, 0.6270386161234062, 0.589268527423301, 0.6141395611162004, 0.6166860341599846, 0.6273644200725481, 0.5905496195241384, 0.5925980260729173, 0.6585350677658725, 0.6742249436949153, 0.662181111913032, 0.6006660264999467, 0.5376023343857294, 0.5717202659850827, 0.5339273847147598, 0.4887184606388488, 0.5110303015893248, 0.5215266794004223, 0.5026182093704649, 0.45975508228622197, 0.45372579223758225, 0.44640072226189403, 0.5140295208845126, 0.5393202885272469, 0.5025794564736036, 0.5094321402155566, 0.4963928277053617, 0.4504554212479412, 0.45048645093323253, 0.4785502588248095, 0.4984121415410293, 0.4942883284804248, 0.4635540292627611, 0.43844456957488265, 0.4803662259317363, 0.5146633209196068, 0.5192018598275631, 0.5947213884597123, 0.6118749191603021, 0.5946376077588295, 0.5918448505732473, 0.5904458576115331, 0.596403316296329, 0.60539697816776, 0.6095567737161932, 0.6072876504363471, 0.5377591040381282, 0.5599443571440929, 0.5563258237809049, 0.6157806831229952, 0.6363926602725916, 0.6233628886911561, 0.6179886592113196, 0.6272819440174752, 0.6415375078580869, 0.5968217794994043, 0.5889030407463509, 0.6402021502396225, 0.5871279854725091, 0.5584220359728165, 0.5219443570093371, 0.4870613163467698, 0.44496477254183114, 0.4467648191068168, 0.4524131452903738, 0.46935512575351707, 0.505902716897061, 0.42935406497953393, 0.39840912837959247, 0.3963520228124505, 0.40360115038968497, 0.43779058208292054, 0.4779404889949632, 0.5189422747783579, 0.5442112361258894, 0.5107389258795076, 0.5315836865605413, 0.5511261161368125, 0.5561496755659084, 0.5367938209148663, 0.522007340549978, 0.5375642409566832, 0.4819779104839648, 0.41934606382186784, 0.4036828385052296, 0.36077242882666644, 0.3438834595942611, 0.28187261345060216, 0.2686241474150845, 0.2763433118167691, 0.2996363851534164, 0.36300274444982183, 0.335649549431046, 0.34223523495230995, 0.37535181557739355, 0.32070022407553084, 0.3245306095905286, 0.3564763641976403, 0.3590594351119553, 0.32100318905717357, 0.3875189667056819, 0.40908274344295426, 0.36340102211263586, 0.3771234775661224, 0.422126923201628, 0.38094938632335595, 0.3804248357047931, 0.3585979843991455, 0.38568132926757404, 0.38315299180197326, 0.43732062229348134, 0.4171712854681113, 0.4203154838908592, 0.42136173438821434, 0.4549931778231114, 0.4532451041256808, 0.49831614125659945, 0.5169826193855882, 0.5626230446310345, 0.5331741843670808, 0.5709576725632947, 0.5361067799717604, 0.5318133314257967, 0.48763905439194094, 0.4947305272646988, 0.49403132656769944, 0.5010970889794274, 0.48198682565068673, 0.5397430643879494, 0.5090028106837565, 0.5584928490725731, 0.5737652268797608, 0.582394904463388, 0.5479776536459778, 0.543404485123903, 0.5961419349953425, 0.511597682308769, 0.5064958519794633, 0.5661153524201518, 0.5399122764100265, 0.5272898643940797, 0.5207891946031441, 0.5416922052842869, 0.5678604670629275, 0.5911800710445688, 0.6247699412154724, 0.5764256672476338, 0.5916843242200087, 0.5784787700049239, 0.5303650423612419, 0.49616850370124266, 0.4900691516706788, 0.47172155747465044, 0.41011223355860144, 0.39154648627739513, 0.3748621143499502, 0.4197396300844908, 0.46998939236377796, 0.4529285947588477, 0.4099013217764745, 0.4003368294124702, 0.47242147240727345, 0.5340829408516244, 0.5043682244491019, 0.4968188720216165, 0.5126966127022494, 0.5592743777275193, 0.5647803744975258, 0.5142505149662565, 0.5928232621322558, 0.6370284594697919, 0.6512791883349035, 0.6511390530528827, 0.6013154220657612, 0.636439925555792, 0.6247717831953984, 0.5788844261109097, 0.5855468545976464, 0.5201632839701734, 0.5579147719634115, 0.5322616472057558, 0.5462636484377738, 0.5356826736007878, 0.4770260377077142, 0.4821692061204503, 0.49507417315187113, 0.5422834730132554, 0.6136119562294193, 0.6114553490665916, 0.6043987838305941, 0.5854946284990284, 0.5404097346701524, 0.4675011531147938, 0.4406907366990392, 0.48849829327763766, 0.5336711261243733, 0.5301335032045744, 0.5062166791341083, 0.47538745871473065, 0.4658091402525299, 0.48787219947461485, 0.48965502234096087, 0.5005131200440659, 0.5043863440218371, 0.5219800007626905, 0.5242163435343936, 0.5038827421266636, 0.5126610358211509, 0.5232857444506656, 0.49255817477327124, 0.4930228167666871, 0.5339072283855365, 0.48314361192077676, 0.5237524815821551, 0.52465610524253, 0.5108723648285474, 0.5103534505125796, 0.4626786053898495, 0.40036643836794356, 0.4485836419647424, 0.46165917117588506, 0.4006176727242437, 0.3405826982529348, 0.36140438376304174, 0.3680948180824124, 0.3691085474796662, 0.4414414492843395, 0.3953702856629363, 0.4799376038118496, 0.5408093641103225, 0.47770619014146026, 0.4624695127424474, 0.4953287777769924, 0.48921475109418516, 0.526544743311601, 0.46250963393675515, 0.45411617989424274, 0.4606451988279817, 0.4531245251465901, 0.41915239847933833, 0.377390744522919, 0.3791414059884081, 0.3618281927162734, 0.40149927646115274, 0.4805614703600312, 0.5094474980879451, 0.515969506880053, 0.5345774267452736, 0.5014159043326457, 0.5636343612272965, 0.5587564116178668, 0.5804241637467409, 0.6121108517291428, 0.6299400518933247, 0.5961409833248724, 0.5359144234134541, 0.4701493953760561, 0.46742270949031933, 0.47338575072019, 0.5066193722845397, 0.4582511317975595, 0.46816907152737364, 0.4641032780930217, 0.4894578320360809, 0.5014026101529243, 0.48005552214733777, 0.48186645822684865, 0.48826227193598587, 0.5578773628852975, 0.6135785921541089, 0.5517088296498467, 0.5413843901150709, 0.5315857428122993, 0.5257238660893213, 0.4943809586122308, 0.48116454522644214, 0.4551272482805093, 0.4475379651114896, 0.42531909120110856, 0.3984163629364987, 0.32363601039267437, 0.3029378706274023, 0.3303059331648837, 0.3072692182773574, 0.3266509747832855, 0.3173144750332067, 0.3734554726590668, 0.38561961517875704, 0.4090441866441003, 0.47474018299633786, 0.4316403858461934, 0.5114868932492299, 0.5204061947144191, 0.533208639207408, 0.5963063047278331, 0.5989758853515806, 0.5832052453554777, 0.5144987687011005, 0.5472422827822281, 0.5852356785335004, 0.5396453149539227, 0.6138863887204565, 0.5404729976344348, 0.6074947763636284, 0.5398175911737557, 0.4790151190480112, 0.4864276771362473, 0.5304342478808807, 0.6031866144640841, 0.6328557300269467, 0.617112816044568, 0.6531224237654406, 0.5880675208516709, 0.6145181893925382, 0.5461013956979406, 0.6081981689771655, 0.6401718109703164, 0.5810352767957501, 0.5138132688288128, 0.5189252794037927, 0.5159738345061252, 0.4980724750504887, 0.4845981543854628, 0.5457924999024679, 0.5476717432339208, 0.569291152412885, 0.5350952154061802, 0.4978397929322011, 0.4770963470259485, 0.5300076789034427, 0.4803074969922459, 0.4587030427381846, 0.4144350154119119, 0.39748645102112246, 0.33266749171418764, 0.3028328860472124, 0.2904149337013089, 0.3349845006185906, 0.34769615703614526, 0.38193921604485404, 0.3788488595896579, 0.36219847513487974, 0.31100516072255346, 0.35340335245738913, 0.3666720957183829, 0.4130862301170879, 0.4415578610585629, 0.48041242121696043, 0.4715476546874981, 0.4570546876054209, 0.4655992420413399, 0.45345214791305394, 0.4526823689805919, 0.4894795471510653, 0.49236188302390854, 0.5292745998374195, 0.5537170536099075, 0.5388905452302789, 0.535245276592496, 0.4731339487925261, 0.4579681954348782, 0.4594790552970778, 0.4957151636029591, 0.4897520404865104, 0.5219140155665077, 0.5512414823744675, 0.4971380757680542, 0.47666992856483525, 0.5288304521121786, 0.5038485571217218, 0.5632199498077587, 0.6236623796575242, 0.6311974792612237, 0.6292750301672708, 0.6962874520180453, 0.7139284482150949, 0.685585095928004, 0.6732645380526562, 0.6330862148048894, 0.5756887208067082, 0.5936799043385472, 0.5988133090438771, 0.5366055912772287, 0.5445200140741893, 0.5318723890245989, 0.4819975832828224, 0.4415409457672299, 0.40459235102301433, 0.45492146513942555, 0.43584085409025924, 0.5052592513304025, 0.5269343771349366, 0.515179685072728, 0.5347608690277211, 0.5557814539808997, 0.5778074152999507, 0.5588205653967383, 0.5825206968533176, 0.6440782156271675, 0.6376983252478025, 0.6976709688005461, 0.6489289391611237, 0.6595074909045108, 0.6906674023785236, 0.7011062267578929, 0.6910924668222497, 0.643227262595292, 0.6455570862009105, 0.6046216340683238, 0.5395670173675348, 0.562218599511964, 0.5857655371144562, 0.5561408098682165, 0.5267200170102283, 0.4755397051477103, 0.4515157704369479, 0.40540340534708064, 0.3886120216834545, 0.4417777119113165, 0.41255422819284215, 0.4183277399290459, 0.37559031358515793, 0.2902821856798605, 0.3364948998736428, 0.3369447596365015, 0.3757727826523452, 0.38381967216901747, 0.38284749932808765, 0.40958595929827857, 0.3662813125731127, 0.4191657787048321, 0.42471519011546166, 0.4469655612487362, 0.5169706562743845, 0.533436840967687, 0.5668903474196272, 0.5405307704144459, 0.5663674489729759, 0.6182689113581628, 0.6388805436405837, 0.665909537474593, 0.6475021103258025, 0.6505171299879434, 0.5982091350923262, 0.5997053506382606, 0.5369250697625204, 0.5163477175023565, 0.516339543497109, 0.5594428206750467, 0.5508399079527325, 0.569426489654612, 0.529976433613955, 0.5406232598926479, 0.5668533363864566, 0.5853180862572117, 0.5576347588784133, 0.5793390527941115, 0.5594416652180569, 0.509946904143579, 0.4624349953550427, 0.434115584799231, 0.3733228033120634, 0.39721450646267553, 0.42291594622086676, 0.43299181865698944, 0.4494506982551018, 0.46259940313107323, 0.4644848075172248, 0.4349866328886098, 0.435262172882125, 0.42029007465457896, 0.43380026147043366, 0.4862424200931141, 0.5253350112196586, 0.5005961836468589, 0.5281966619274608, 0.5254041020163785, 0.5423973060458926, 0.5452524996304342, 0.5944085512033481, 0.6838372815074505, 0.6863568579400464, 0.6474612785309213, 0.6236768035906453, 0.596543615443873, 0.5827674176360511, 0.4933584264585624, 0.4867749417076535, 0.44961821315645545, 0.4492806431980325, 0.45988197876519793, 0.42323073657060245, 0.46218475476016535, 0.5283298771623314, 0.5400334912393746, 0.5365558431967394, 0.5716782348605296, 0.629572431078549, 0.6531708668106887, 0.6716986746820517, 0.6718574840684313, 0.6507680951875255, 0.6552503209932978, 0.6737309725465533, 0.6632368374314362, 0.6720999831610683, 0.6970815957281161, 0.7034050067921328, 0.700232915358946, 0.6730242475156136, 0.6398340565728393, 0.6671996067615972, 0.6894432470821065, 0.6813081786145839, 0.6099401792889951, 0.6145312338186865, 0.5816471440287208, 0.5543383111319582, 0.4843439654823846, 0.47569110439691964, 0.5116272477667408, 0.5259922071147047, 0.4939155967986794, 0.4741793662610123, 0.42649705986057646, 0.45877829895304384, 0.46906482716533393, 0.48778341925869834, 0.4818580647113373, 0.5403598989338594, 0.5489701713453013, 0.5002557828023787, 0.48072037549184365, 0.5289792824109779, 0.4937270707115941, 0.4987401061763254, 0.5281504692328333, 0.48970234850954636, 0.4604078552399532, 0.47037105468317325, 0.4747180957793368, 0.435041703831304, 0.47542148626348213, 0.5213968196880263, 0.5149402882543307, 0.5150031449334679, 0.5636196497656556, 0.5092047668363165, 0.5126453946584142, 0.49484128610895434, 0.5201366227224677, 0.5319540932951257, 0.5465986344253921, 0.5074396856596165, 0.5301989055374339, 0.5203522572940833, 0.572536983527585, 0.5198886330069682, 0.5805503996687207, 0.5861328894212753, 0.5992389059951092, 0.5666932694506662, 0.5571364629825322, 0.5985699534925727, 0.595622890435158, 0.5649045348244442, 0.5157171906654112, 0.5274678460281707, 0.5650171261525729, 0.5662672801117101, 0.575885078647088, 0.6022242377520463, 0.5867895476113625, 0.5654258502844404, 0.5066265580758961, 0.5019172058083835, 0.510086593162718, 0.5278557059655626, 0.5077035678066191, 0.4892414812255215, 0.4715154027811112, 0.47062713747292795, 0.4432849535326463, 0.42913962649035126, 0.4173592203341921, 0.44951756203331494, 0.4460517639841324, 0.39796189981432567, 0.3701667438581468, 0.3561792220461842, 0.415123087451471, 0.36952305551009385, 0.3073627381900977, 0.3435834394052497, 0.4079948143970718, 0.4595506081740496, 0.4705340133100828, 0.49257664521500205, 0.5517682231843538, 0.5574704097659576, 0.5661179885509198, 0.49396841817634896, 0.5106182323634196, 0.5524645455929977, 0.5228255163760122, 0.46406979092281164, 0.39748758418356955, 0.4163031333359506, 0.42722428234873183, 0.4037755665935369, 0.4123064677210856, 0.41433356959353174, 0.43568687958404323, 0.45331531962664706, 0.49099388157152307, 0.5470392575582183, 0.5359138366044608, 0.587343418361412, 0.5907468572578655, 0.5777467329319306, 0.5598571766827131, 0.5933432441427289, 0.6118800779776543, 0.6182265629040886, 0.6442639793847587, 0.6305433853309732, 0.5539869917691767, 0.6328471710465133, 0.5617324747429916, 0.4969679678962635, 0.528353129321671, 0.4987142257450141, 0.48046296447209136, 0.40874829424992976, 0.41447199247858557, 0.4108310992950574, 0.4242423559446038, 0.4136238614551182, 0.33609402839193775, 0.4111342995533352, 0.40182852984503853, 0.3662629891345528, 0.3717463555940023, 0.345523430256085, 0.33621834218316704, 0.35209322752967587, 0.34342358427379, 0.32348604111101636, 0.39713632580159286, 0.4518785468770318, 0.41088562799612477, 0.464362740765252, 0.5276358810650119, 0.5752873915495951, 0.5891104849255074, 0.5920705945605185, 0.6191299570219042, 0.6051191597813906, 0.5744685566951845, 0.5526258273990758, 0.5432841371776923, 0.5553268503696197, 0.5034851793072056, 0.44745179239879035, 0.4266378551184538, 0.4226630011654272, 0.4972012862125681, 0.45074253872536213, 0.45727800846247457, 0.49036270908388246, 0.5029018282303801, 0.5175252550348551, 0.5384376849305418, 0.5557809623961153, 0.6124333373340027, 0.588647858319849, 0.6540368632735275, 0.6517153672716235, 0.6906285048897269, 0.6352126493838259, 0.5786373433836444, 0.5849803199254459, 0.5620759140665814, 0.5273527040210202, 0.5939987747554377, 0.5088818891733233, 0.5434687346298457, 0.5002598601799734, 0.4342266190728021, 0.3926833437642585, 0.4522139028527101, 0.5241318597398472, 0.45245585148812195, 0.4574870089552039, 0.43204368203677956, 0.41528968066638666, 0.4194412574070289, 0.374234736244441, 0.3688607749650393, 0.42380650691755045, 0.41635363694131944, 0.36384068192700547, 0.3558640103708931, 0.42698216222833324, 0.45710491133464987, 0.4765019911736317, 0.4423598915248988, 0.4568694110537667, 0.5044134266900729, 0.49949260530029654, 0.4636796199778164, 0.5064445950107518, 0.5815619823186767, 0.5624318093324573, 0.4985925864438002, 0.48011214407216746, 0.4932818935798059, 0.544481911398655, 0.5875720478435399, 0.6128091945245128, 0.6465527484698277, 0.6644578093632252, 0.6747484433103514, 0.6634139800983321, 0.636794486314475, 0.6415530285963049, 0.615896386423858, 0.6224842004897222, 0.5415159761992054, 0.5075157754090122, 0.4838902806549004, 0.42409831323341296, 0.4494919196636346, 0.42715543365046665, 0.3800675342760808, 0.38070345187979343, 0.39848383784049646, 0.3943871857875372, 0.4150631952771888, 0.45176108324451825, 0.4681928205939696, 0.42945198739023666, 0.5086195677416797, 0.4641308633919983, 0.43471699127426505, 0.41246207928408957, 0.47437940660196465, 0.48593228851300463, 0.5393501104292846, 0.5556322436600784, 0.5982409059970863, 0.6245591687636034, 0.6951670529654576, 0.6958826276229423, 0.7391366957587469, 0.7215927651818808, 0.7629441817807906, 0.7262344028037317, 0.7728525560925408, 0.7611310845181798, 0.7407037185324955, 0.720421617956686, 0.6791442067159555, 0.6806778733204014, 0.6553334702263259, 0.6190795548048562, 0.6490786785553039, 0.690537151739385, 0.6865848230509658, 0.6116120964953594, 0.5538308641469775, 0.5524059532381403, 0.5356901799718293, 0.5852564069812863, 0.5163733875457549, 0.49524683519226775, 0.5248273452019007, 0.4871485685295988, 0.4071001575545763, 0.4083346579178928, 0.4172375379834325, 0.4134723199925432, 0.37478644470518996, 0.38109240441608105, 0.3465079658376155, 0.3368621855186574, 0.3061078793208248, 0.3172594041556178, 0.3711806702091911, 0.37792111126931166, 0.40665985362543117, 0.3844889596932981, 0.408231432070764, 0.4614979928446539, 0.4686013860283268, 0.4465445650253819, 0.5204340862944995, 0.568185591357434, 0.5695370756625604, 0.5922238405293231, 0.6151399149927212, 0.5982095759374638, 0.6457211151543882, 0.6981420647440608, 0.6936448834554915, 0.6950576187017766, 0.7432648885958152, 0.7529811120307276, 0.7219341287790034, 0.6615587025498597, 0.6482850152256383, 0.6796385091603203, 0.664973369157972, 0.6597551417903204, 0.6105740356638896, 0.6182591436237712, 0.624660359730828, 0.6038026527836063, 0.5167080284264937, 0.5707607928615868, 0.594132615315027, 0.5434942257469512, 0.5006780225342666, 0.5167735387323318, 0.4729945627906573, 0.4472037970486617, 0.39447258854705686, 0.40274163195989626, 0.41749279934528133, 0.5020994030982673, 0.4740891435682959, 0.48440864810795803, 0.5172828552537362, 0.5378531223915137, 0.5242809492306219, 0.5981955376671176, 0.673952272883605, 0.6835565576539024, 0.6601723656010985, 0.6202540899745328, 0.5594466955041059, 0.5561092965193049, 0.5574092447961113, 0.557283577539725, 0.5982792583942051, 0.5638184099009526, 0.5472817609791596, 0.5510237858955113, 0.5808269238229318, 0.5750035848802892, 0.5805130162480941, 0.5896246977951853, 0.6287343106710972, 0.6568309280302143, 0.6677110936761154, 0.6606354744634585, 0.7299256937360554, 0.7489874352366152, 0.6934315428698327, 0.6687251206779806, 0.6896341196775831, 0.690022290331008, 0.7215881926255654, 0.6802152188892868, 0.6294162057822508, 0.6100045692896404, 0.5388919842173177, 0.4870131756800999, 0.4478177994135892, 0.414613016135244, 0.38804113716970295, 0.3393434593638363, 0.3834571864750581, 0.3689311253939181, 0.3512697186039232, 0.41137748146114655, 0.3933567825829263, 0.4294730445010597, 0.46447513811153784, 0.4895775117477232, 0.5273356124178243, 0.5823286777289188, 0.6028342285358871, 0.5898870503119563, 0.5809597234343985, 0.6431733396784024, 0.6175781799934758, 0.6024378742125087, 0.5674998550498638, 0.5881357651984096, 0.546127386541314, 0.5090940560732674, 0.46147824297627693, 0.4609321476316085, 0.4824506471504929, 0.47406458906129745, 0.4515201256662617, 0.46226399671155954, 0.4620626131826637, 0.5059191430393919, 0.5085800121699311, 0.537704338827172, 0.5839179869016404, 0.5924160587749111, 0.6348086349741975, 0.6363932419488959, 0.6094877825698709, 0.5939721709725393, 0.5562691444339353, 0.6092222483727932, 0.5643817648971875, 0.4979772133814471, 0.4733551597696027, 0.4683757744581355, 0.5089739831572593, 0.5009505392010501, 0.4842982120266824, 0.5364470289033044, 0.49411601960428714, 0.4913967326320563, 0.4911290472960273, 0.507092787730751, 0.529136797387418, 0.5860754322097602, 0.5530248956429166, 0.5585334246822046, 0.49016816650155537, 0.45379914783810027, 0.4745793813744333, 0.48494368172617647, 0.49685509570314745, 0.4739371330164868, 0.5279098150029529, 0.5719322058174537, 0.5158880421107233, 0.5500989062452294, 0.5538378604553832, 0.5937438608446142, 0.5781311794822263, 0.5648832621072363, 0.5772368291371274, 0.5740760787082352, 0.5369813400450435, 0.5461649546743699, 0.5157301970747039, 0.5736593139795946, 0.6169510175743675, 0.5599081568918124, 0.5595209114158454, 0.5800323926570177, 0.5800499294818482, 0.6259859627739024, 0.6025846708380483, 0.6267667395385689, 0.6010662398231612, 0.6055188929843067, 0.5855596839114389, 0.5617029807448758, 0.601587332067412, 0.6166532930740327]\n"
     ]
    }
   ],
   "source": [
    "print(moving_window_average(x,5))"
   ]
  },
  {
   "cell_type": "markdown",
   "metadata": {},
   "source": [
    "#### Exercise 3c\n",
    "\n",
    "- For each list in `Y`, calculate and store the range (the maximum minus the minimum) in a new list ranges.\n",
    "- Print your answer. As the window width increases, does the range of each list increase or decrease? Why do you think that is?"
   ]
  },
  {
   "cell_type": "code",
   "execution_count": 28,
   "metadata": {},
   "outputs": [
    {
     "name": "stdout",
     "output_type": "stream",
     "text": [
      "[0.9973152343362711, 0.9128390185520854, 0.801645771909397, 0.7137391224212468, 0.6230146948375028, 0.5042284086774562, 0.5071013753101629, 0.4590090496908159, 0.44659549539083265, 0.4433696944090051]\n"
     ]
    }
   ],
   "source": [
    "ranges = [max(x)-min(x) for x in Y]\n",
    "print(ranges)"
   ]
  },
  {
   "cell_type": "code",
   "execution_count": 29,
   "metadata": {},
   "outputs": [],
   "source": [
    "import matplotlib.pyplot as plt"
   ]
  },
  {
   "cell_type": "code",
   "execution_count": 30,
   "metadata": {},
   "outputs": [
    {
     "data": {
      "text/plain": [
       "[<matplotlib.lines.Line2D at 0x183cc15c388>]"
      ]
     },
     "execution_count": 30,
     "metadata": {},
     "output_type": "execute_result"
    },
    {
     "data": {
      "image/png": "[encoded data removed]",
      "text/plain": [
       "<Figure size 432x288 with 1 Axes>"
      ]
     },
     "metadata": {
      "needs_background": "light"
     },
     "output_type": "display_data"
    }
   ],
   "source": [
    "plt.plot([0,1,2],[0,1,4],\"rd-\")"
   ]
  },
  {
   "cell_type": "code",
   "execution_count": 32,
   "metadata": {},
   "outputs": [
    {
     "data": {
      "text/plain": [
       "[<matplotlib.lines.Line2D at 0x183cc249e48>]"
      ]
     },
     "execution_count": 32,
     "metadata": {},
     "output_type": "execute_result"
    },
    {
     "data": {
      "image/png": "[encoded data removed]",
      "text/plain": [
       "<Figure size 432x288 with 1 Axes>"
      ]
     },
     "metadata": {
      "needs_background": "light"
     },
     "output_type": "display_data"
    }
   ],
   "source": [
    "import numpy as np\n",
    "x = np.logspace(0,1,10)\n",
    "y = x**2\n",
    "plt.loglog(x,y,\"bo-\")"
   ]
  },
  {
   "cell_type": "code",
   "execution_count": 33,
   "metadata": {},
   "outputs": [
    {
     "data": {
      "text/plain": [
       "array([-5. , -4.5, -4. , -3.5, -3. , -2.5, -2. , -1.5, -1. , -0.5,  0. ,\n",
       "        0.5,  1. ,  1.5,  2. ,  2.5,  3. ,  3.5,  4. ,  4.5,  5. ])"
      ]
     },
     "execution_count": 33,
     "metadata": {},
     "output_type": "execute_result"
    }
   ],
   "source": [
    "np.linspace(-5,5,21)"
   ]
  },
  {
   "cell_type": "code",
   "execution_count": 34,
   "metadata": {},
   "outputs": [],
   "source": [
    "hist(np.linspace(-5,5,21))"
   ]
  },
  {
   "cell_type": "code",
   "execution_count": 35,
   "metadata": {},
   "outputs": [
    {
     "data": {
      "text/plain": [
       "array([-5.  , -4.95, -4.9 , -4.85, -4.8 , -4.75, -4.7 , -4.65, -4.6 ,\n",
       "       -4.55, -4.5 , -4.45, -4.4 , -4.35, -4.3 , -4.25, -4.2 , -4.15,\n",
       "       -4.1 , -4.05, -4.  , -3.95, -3.9 , -3.85, -3.8 , -3.75, -3.7 ,\n",
       "       -3.65, -3.6 , -3.55, -3.5 , -3.45, -3.4 , -3.35, -3.3 , -3.25,\n",
       "       -3.2 , -3.15, -3.1 , -3.05, -3.  , -2.95, -2.9 , -2.85, -2.8 ,\n",
       "       -2.75, -2.7 , -2.65, -2.6 , -2.55, -2.5 , -2.45, -2.4 , -2.35,\n",
       "       -2.3 , -2.25, -2.2 , -2.15, -2.1 , -2.05, -2.  , -1.95, -1.9 ,\n",
       "       -1.85, -1.8 , -1.75, -1.7 , -1.65, -1.6 , -1.55, -1.5 , -1.45,\n",
       "       -1.4 , -1.35, -1.3 , -1.25, -1.2 , -1.15, -1.1 , -1.05, -1.  ,\n",
       "       -0.95, -0.9 , -0.85, -0.8 , -0.75, -0.7 , -0.65, -0.6 , -0.55,\n",
       "       -0.5 , -0.45, -0.4 , -0.35, -0.3 , -0.25, -0.2 , -0.15, -0.1 ,\n",
       "       -0.05,  0.  ,  0.05,  0.1 ,  0.15,  0.2 ,  0.25,  0.3 ,  0.35,\n",
       "        0.4 ,  0.45,  0.5 ,  0.55,  0.6 ,  0.65,  0.7 ,  0.75,  0.8 ,\n",
       "        0.85,  0.9 ,  0.95,  1.  ,  1.05,  1.1 ,  1.15,  1.2 ,  1.25,\n",
       "        1.3 ,  1.35,  1.4 ,  1.45,  1.5 ,  1.55,  1.6 ,  1.65,  1.7 ,\n",
       "        1.75,  1.8 ,  1.85,  1.9 ,  1.95,  2.  ,  2.05,  2.1 ,  2.15,\n",
       "        2.2 ,  2.25,  2.3 ,  2.35,  2.4 ,  2.45,  2.5 ,  2.55,  2.6 ,\n",
       "        2.65,  2.7 ,  2.75,  2.8 ,  2.85,  2.9 ,  2.95,  3.  ,  3.05,\n",
       "        3.1 ,  3.15,  3.2 ,  3.25,  3.3 ,  3.35,  3.4 ,  3.45,  3.5 ,\n",
       "        3.55,  3.6 ,  3.65,  3.7 ,  3.75,  3.8 ,  3.85,  3.9 ,  3.95,\n",
       "        4.  ,  4.05,  4.1 ,  4.15,  4.2 ,  4.25,  4.3 ,  4.35,  4.4 ,\n",
       "        4.45,  4.5 ,  4.55,  4.6 ,  4.65,  4.7 ,  4.75,  4.8 ,  4.85,\n",
       "        4.9 ,  4.95,  5.  ])"
      ]
     },
     "execution_count": 35,
     "metadata": {},
     "output_type": "execute_result"
    }
   ],
   "source": [
    "np.linspace(-5,5,201)"
   ]
  },
  {
   "cell_type": "code",
   "execution_count": 36,
   "metadata": {},
   "outputs": [
    {
     "data": {
      "text/plain": [
       "<matplotlib.axes._subplots.AxesSubplot at 0x183cc482208>"
      ]
     },
     "execution_count": 36,
     "metadata": {},
     "output_type": "execute_result"
    },
    {
     "data": {
      "image/png": "[encoded data removed]",
      "text/plain": [
       "<Figure size 432x288 with 1 Axes>"
      ]
     },
     "metadata": {
      "needs_background": "light"
     },
     "output_type": "display_data"
    }
   ],
   "source": [
    "plt.subplot(333)"
   ]
  },
  {
   "cell_type": "code",
   "execution_count": 37,
   "metadata": {},
   "outputs": [
    {
     "data": {
      "text/plain": [
       "<matplotlib.axes._subplots.AxesSubplot at 0x183cc4585c8>"
      ]
     },
     "execution_count": 37,
     "metadata": {},
     "output_type": "execute_result"
    },
    {
     "data": {
      "image/png": "[encoded data removed]",
      "text/plain": [
       "<Figure size 432x288 with 1 Axes>"
      ]
     },
     "metadata": {
      "needs_background": "light"
     },
     "output_type": "display_data"
    }
   ],
   "source": [
    "plt.subplot(3, 3, 3)"
   ]
  },
  {
   "cell_type": "code",
   "execution_count": 38,
   "metadata": {},
   "outputs": [
    {
     "data": {
      "text/plain": [
       "6"
      ]
     },
     "execution_count": 38,
     "metadata": {},
     "output_type": "execute_result"
    }
   ],
   "source": [
    "random.choice(range(0,10))\n"
   ]
  },
  {
   "cell_type": "code",
   "execution_count": 39,
   "metadata": {},
   "outputs": [
    {
     "data": {
      "text/plain": [
       "2"
      ]
     },
     "execution_count": 39,
     "metadata": {},
     "output_type": "execute_result"
    }
   ],
   "source": [
    "random.choice(list([1,2,3,4]))"
   ]
  },
  {
   "cell_type": "code",
   "execution_count": 40,
   "metadata": {},
   "outputs": [
    {
     "data": {
      "text/plain": [
       "45"
      ]
     },
     "execution_count": 40,
     "metadata": {},
     "output_type": "execute_result"
    }
   ],
   "source": [
    "sum(random.sample(range(10),10))"
   ]
  },
  {
   "cell_type": "code",
   "execution_count": 41,
   "metadata": {},
   "outputs": [
    {
     "ename": "TypeError",
     "evalue": "choice() takes 2 positional arguments but 3 were given",
     "output_type": "error",
     "traceback": [
      "\u001b[1;31m---------------------------------------------------------------------------\u001b[0m",
      "\u001b[1;31mTypeError\u001b[0m                                 Traceback (most recent call last)",
      "\u001b[1;32m<ipython-input-41-b901f78422f7>\u001b[0m in \u001b[0;36m<module>\u001b[1;34m\u001b[0m\n\u001b[1;32m----> 1\u001b[1;33m \u001b[0msum\u001b[0m\u001b[1;33m(\u001b[0m\u001b[0mrandom\u001b[0m\u001b[1;33m.\u001b[0m\u001b[0mchoice\u001b[0m\u001b[1;33m(\u001b[0m\u001b[0mrange\u001b[0m\u001b[1;33m(\u001b[0m\u001b[1;36m10\u001b[0m\u001b[1;33m)\u001b[0m\u001b[1;33m,\u001b[0m\u001b[1;36m10\u001b[0m\u001b[1;33m)\u001b[0m\u001b[1;33m)\u001b[0m\u001b[1;33m\u001b[0m\u001b[1;33m\u001b[0m\u001b[0m\n\u001b[0m",
      "\u001b[1;31mTypeError\u001b[0m: choice() takes 2 positional arguments but 3 were given"
     ]
    }
   ],
   "source": [
    "sum(random.choice(range(10),10))"
   ]
  },
  {
   "cell_type": "code",
   "execution_count": 42,
   "metadata": {},
   "outputs": [
    {
     "data": {
      "text/plain": [
       "54"
      ]
     },
     "execution_count": 42,
     "metadata": {},
     "output_type": "execute_result"
    }
   ],
   "source": [
    "sum(random.choice(range(10)) for i in range(10))"
   ]
  },
  {
   "cell_type": "code",
   "execution_count": 43,
   "metadata": {},
   "outputs": [
    {
     "data": {
      "text/plain": [
       "4"
      ]
     },
     "execution_count": 43,
     "metadata": {},
     "output_type": "execute_result"
    }
   ],
   "source": [
    "random.choice(list((1,2,3,4)))"
   ]
  },
  {
   "cell_type": "code",
   "execution_count": 44,
   "metadata": {},
   "outputs": [
    {
     "data": {
      "text/plain": [
       "2"
      ]
     },
     "execution_count": 44,
     "metadata": {},
     "output_type": "execute_result"
    }
   ],
   "source": [
    "random.choice(list((1,2,3,4)))"
   ]
  },
  {
   "cell_type": "code",
   "execution_count": 46,
   "metadata": {},
   "outputs": [
    {
     "data": {
      "text/plain": [
       "array([[[0.99417348, 0.08958543, 0.09030866],\n",
       "        [0.62213849, 0.48239401, 0.91209631]],\n",
       "\n",
       "       [[0.86465943, 0.7641559 , 0.73239027],\n",
       "        [0.32959318, 0.51701705, 0.90883649]],\n",
       "\n",
       "       [[0.10002248, 0.33746228, 0.83933945],\n",
       "        [0.94174408, 0.1600675 , 0.00578934]],\n",
       "\n",
       "       [[0.09103871, 0.98120102, 0.70210477],\n",
       "        [0.86844165, 0.92218779, 0.8489849 ]],\n",
       "\n",
       "       [[0.68611121, 0.06164767, 0.34774105],\n",
       "        [0.29518185, 0.90885586, 0.78828634]]])"
      ]
     },
     "execution_count": 46,
     "metadata": {},
     "output_type": "execute_result"
    }
   ],
   "source": [
    "np.random.random((5,2,3))"
   ]
  },
  {
   "cell_type": "code",
   "execution_count": 47,
   "metadata": {},
   "outputs": [
    {
     "data": {
      "text/plain": [
       "array([-1.83705698, -1.55948367,  1.30682251])"
      ]
     },
     "execution_count": 47,
     "metadata": {},
     "output_type": "execute_result"
    }
   ],
   "source": [
    "np.random.normal(1,2,3)"
   ]
  },
  {
   "cell_type": "code",
   "execution_count": 49,
   "metadata": {},
   "outputs": [
    {
     "data": {
      "text/plain": [
       "array([[2, 4, 1],\n",
       "       [3, 2, 2]])"
      ]
     },
     "execution_count": 49,
     "metadata": {},
     "output_type": "execute_result"
    }
   ],
   "source": [
    "np.random.randint(1,5,(2,3))"
   ]
  },
  {
   "cell_type": "code",
   "execution_count": 51,
   "metadata": {},
   "outputs": [
    {
     "data": {
      "text/plain": [
       "array([337, 334, 350, 363, 336, 340, 355, 390, 360, 344])"
      ]
     },
     "execution_count": 51,
     "metadata": {},
     "output_type": "execute_result"
    }
   ],
   "source": [
    "np.sum(np.random.randint(1,7,(100,10)), axis=0)"
   ]
  },
  {
   "cell_type": "code",
   "execution_count": 53,
   "metadata": {},
   "outputs": [
    {
     "name": "stderr",
     "output_type": "stream",
     "text": [
      "C:\\Users\\Lakshmi J V N\\anaconda3\\lib\\site-packages\\ipykernel_launcher.py:2: DeprecationWarning: time.clock has been deprecated in Python 3.3 and will be removed from Python 3.8: use time.perf_counter or time.process_time instead\n",
      "  \n",
      "C:\\Users\\Lakshmi J V N\\anaconda3\\lib\\site-packages\\ipykernel_launcher.py:3: DeprecationWarning: time.clock has been deprecated in Python 3.3 and will be removed from Python 3.8: use time.perf_counter or time.process_time instead\n",
      "  This is separate from the ipykernel package so we can avoid doing imports until\n"
     ]
    },
    {
     "data": {
      "text/plain": [
       "0.0002181999989261385"
      ]
     },
     "execution_count": 53,
     "metadata": {},
     "output_type": "execute_result"
    }
   ],
   "source": [
    "import time\n",
    "start_time = time.clock()\n",
    "stop_time = time.clock()\n",
    "stop_time - start_time"
   ]
  },
  {
   "cell_type": "code",
   "execution_count": 54,
   "metadata": {},
   "outputs": [
    {
     "ename": "ValueError",
     "evalue": "zero-dimensional arrays cannot be concatenated",
     "output_type": "error",
     "traceback": [
      "\u001b[1;31m---------------------------------------------------------------------------\u001b[0m",
      "\u001b[1;31mValueError\u001b[0m                                Traceback (most recent call last)",
      "\u001b[1;32m<ipython-input-54-514a36f7c7fc>\u001b[0m in \u001b[0;36m<module>\u001b[1;34m\u001b[0m\n\u001b[0;32m      1\u001b[0m \u001b[0mx\u001b[0m \u001b[1;33m=\u001b[0m \u001b[1;33m[\u001b[0m\u001b[1;36m1\u001b[0m\u001b[1;33m,\u001b[0m\u001b[1;36m2\u001b[0m\u001b[1;33m,\u001b[0m\u001b[1;36m2\u001b[0m\u001b[1;33m]\u001b[0m\u001b[1;33m\u001b[0m\u001b[1;33m\u001b[0m\u001b[0m\n\u001b[1;32m----> 2\u001b[1;33m \u001b[0mnp\u001b[0m\u001b[1;33m.\u001b[0m\u001b[0mconcatenate\u001b[0m\u001b[1;33m(\u001b[0m\u001b[0mx\u001b[0m\u001b[1;33m)\u001b[0m\u001b[1;33m\u001b[0m\u001b[1;33m\u001b[0m\u001b[0m\n\u001b[0m",
      "\u001b[1;32m<__array_function__ internals>\u001b[0m in \u001b[0;36mconcatenate\u001b[1;34m(*args, **kwargs)\u001b[0m\n",
      "\u001b[1;31mValueError\u001b[0m: zero-dimensional arrays cannot be concatenated"
     ]
    }
   ],
   "source": [
    "x = [1,2,2]\n",
    "np.concatenate(x)"
   ]
  },
  {
   "cell_type": "code",
   "execution_count": 55,
   "metadata": {},
   "outputs": [
    {
     "data": {
      "text/plain": [
       "array([[0, 0, 0],\n",
       "       [0, 0, 0],\n",
       "       [0, 0, 0]])"
      ]
     },
     "execution_count": 55,
     "metadata": {},
     "output_type": "execute_result"
    }
   ],
   "source": [
    "np.zeros((3,3), dtype=int)"
   ]
  },
  {
   "cell_type": "code",
   "execution_count": 57,
   "metadata": {},
   "outputs": [],
   "source": [
    "def create_board():\n",
    "    return np.zeros ((3,3))\n",
    "\n",
    "#Call create_board(), and store this as board.\n",
    "\n",
    "board = create_board()    "
   ]
  },
  {
   "cell_type": "code",
   "execution_count": 58,
   "metadata": {},
   "outputs": [],
   "source": [
    "def place(board, player, position):\n",
    "    if board[position] == 0:\n",
    "        board[position] = player\n",
    "    \n",
    "\n",
    "#Use create_board() to store a board as board, and use place to have Player 1 place a piece on spot (0, 0).                                \n",
    "\n",
    "board = create_board() \n",
    "place(board , 1 , (0,0))"
   ]
  },
  {
   "cell_type": "code",
   "execution_count": 60,
   "metadata": {},
   "outputs": [
    {
     "name": "stdout",
     "output_type": "stream",
     "text": [
      "[(0, 1), (0, 2), (1, 0), (1, 1), (1, 2), (2, 0), (2, 1), (2, 2)]\n"
     ]
    }
   ],
   "source": [
    "def possibilities(board):\n",
    "    not_occupied = np.where(board == 0)\n",
    "    return list(zip(not_occupied[0], not_occupied[1]))\n",
    "\n",
    "\n",
    "\n",
    "#board is already defined from previous exercises. Call possibilities(board) to see what it returns!\n",
    "\n",
    "print(possibilities(board))"
   ]
  },
  {
   "cell_type": "code",
   "execution_count": 61,
   "metadata": {},
   "outputs": [
    {
     "data": {
      "text/plain": [
       "array([[1., 0., 0.],\n",
       "       [0., 0., 0.],\n",
       "       [2., 0., 0.]])"
      ]
     },
     "execution_count": 61,
     "metadata": {},
     "output_type": "execute_result"
    }
   ],
   "source": [
    "import random \n",
    "\n",
    "def random_place(board, player):\n",
    "    selections = possibilities(board)\n",
    "    if len(selections) > 0:\n",
    "        selection = random.choice(selections)\n",
    "        place(board, player, selection)\n",
    "    return board\n",
    "  \n",
    "                         \n",
    "                               \n",
    "#board is already defined from previous exercises. Call random_place(board, player) to place a random \n",
    "#marker for Player 2, and store this as board to update its value.\n",
    "\n",
    "random_place(board, 2)"
   ]
  },
  {
   "cell_type": "code",
   "execution_count": 62,
   "metadata": {},
   "outputs": [
    {
     "name": "stdout",
     "output_type": "stream",
     "text": [
      "[[0. 2. 1.]\n",
      " [2. 0. 1.]\n",
      " [2. 1. 0.]]\n"
     ]
    }
   ],
   "source": [
    "board = create_board()\n",
    "for i in range(3):\n",
    "    for player in [1, 2]:\n",
    "        random_place(board, player)                                                                   \n",
    "                                                                   \n",
    "#Print board to see your result\n",
    "\n",
    "print(board)"
   ]
  },
  {
   "cell_type": "code",
   "execution_count": 64,
   "metadata": {},
   "outputs": [
    {
     "name": "stdout",
     "output_type": "stream",
     "text": [
      "[[2. 2. 1.]\n",
      " [0. 1. 0.]\n",
      " [0. 1. 2.]]\n"
     ]
    }
   ],
   "source": [
    "random.seed(1)\n",
    "board = create_board()\n",
    "\n",
    "for i in range(3):\n",
    "    for player in [1, 2]:\n",
    "        random_place(board, player)\n",
    "\n",
    "print(board)\n"
   ]
  },
  {
   "cell_type": "code",
   "execution_count": 65,
   "metadata": {},
   "outputs": [
    {
     "data": {
      "text/plain": [
       "False"
      ]
     },
     "execution_count": 65,
     "metadata": {},
     "output_type": "execute_result"
    }
   ],
   "source": [
    "def check_row(row, player):\n",
    "    for marker in row:\n",
    "        if marker != player:\n",
    "            return False\n",
    "    return True\n",
    "\n",
    "def row_win(board, player):\n",
    "    for row in board:\n",
    "        if check_row(row, player):\n",
    "            return True\n",
    "    return False                                                                                        \n",
    "                                                                                                 \n",
    "#board is already defined from previous exercises. Call row_win to check if Player 1 has a complete row.\n",
    "\n",
    "row_win(board, 1)"
   ]
  },
  {
   "cell_type": "code",
   "execution_count": 66,
   "metadata": {},
   "outputs": [
    {
     "data": {
      "text/plain": [
       "False"
      ]
     },
     "execution_count": 66,
     "metadata": {},
     "output_type": "execute_result"
    }
   ],
   "source": [
    "def col_win(board, player):\n",
    "    for row in board.T:\n",
    "        if check_row(row, player):\n",
    "            return True\n",
    "    return False\n",
    "                                  \n",
    "                                  \n",
    "#board is already defined from previous exercises. Call col_win to check if Player 1 has a complete column.\n",
    "\n",
    "col_win(board, 1)"
   ]
  },
  {
   "cell_type": "code",
   "execution_count": 67,
   "metadata": {},
   "outputs": [
    {
     "data": {
      "text/plain": [
       "False"
      ]
     },
     "execution_count": 67,
     "metadata": {},
     "output_type": "execute_result"
    }
   ],
   "source": [
    "def diag_win(board, player):\n",
    "    main_diag = board.diagonal()\n",
    "    anti_diag = np.flipud(board).diagonal()[::-1]\n",
    "    return check_row(main_diag, player) or check_row(anti_diag, player)                                    \n",
    "\n",
    "\n",
    "#board is already defined from previous exercises. Call diag_win to check if Player 1 has a complete diagonal.\n",
    "\n",
    "diag_win(board, 1)\n"
   ]
  },
  {
   "cell_type": "code",
   "execution_count": 68,
   "metadata": {},
   "outputs": [
    {
     "data": {
      "text/plain": [
       "0"
      ]
     },
     "execution_count": 68,
     "metadata": {},
     "output_type": "execute_result"
    }
   ],
   "source": [
    "def evaluate(board):\n",
    "    winner = 0\n",
    "    for player in [1, 2]:\n",
    "        # Check if `row_win`, `col_win`, or `diag_win` apply.  if so, store `player` as `winner`.\n",
    "        if row_win(board, player) or diag_win(board, player) or col_win(board, player):\n",
    "            return player\n",
    "    if np.all(board != 0):\n",
    "        winner = -1\n",
    "    return winner\n",
    "    \n",
    "                           \n",
    "#board is already defined from previous exercises. Call evaluate to see if either player has won the game yet.\n",
    "\n",
    "evaluate(board)\n",
    "#---------------"
   ]
  },
  {
   "cell_type": "code",
   "execution_count": 69,
   "metadata": {},
   "outputs": [
    {
     "data": {
      "text/plain": [
       "0"
      ]
     },
     "execution_count": 69,
     "metadata": {},
     "output_type": "execute_result"
    }
   ],
   "source": [
    "def evaluate(board):\n",
    "    winner = 0\n",
    "    for player in [1, 2]:\n",
    "        if row_win(board, player) or col_win(board, player) or diag_win(board, player):\n",
    "            winner = player\n",
    "    if np.all(board != 0) and winner == 0:\n",
    "        winner = -1\n",
    "    return winner\n",
    "\n",
    "evaluate(board)"
   ]
  },
  {
   "cell_type": "code",
   "execution_count": 70,
   "metadata": {},
   "outputs": [
    {
     "data": {
      "text/plain": [
       "-1"
      ]
     },
     "execution_count": 70,
     "metadata": {},
     "output_type": "execute_result"
    }
   ],
   "source": [
    "def play_game():\n",
    "    board = create_board()\n",
    "    while True:\n",
    "        for player in [1, 2]:\n",
    "            random_place(board, player)\n",
    "            result = evaluate(board)\n",
    "            if result != 0:\n",
    "                return result             \n",
    "             \n",
    "#Call play_game once.\n",
    "\n",
    "play_game()"
   ]
  },
  {
   "cell_type": "code",
   "execution_count": 76,
   "metadata": {},
   "outputs": [
    {
     "name": "stdout",
     "output_type": "stream",
     "text": [
      "[2, -1, 1, 1, 2, 1, 2, 1, 1, 1, 1, 2, 1, 1, 2, 2, 2, -1, 1, 1, 2, 1, 1, -1, 1, 1, 2, 1, 1, 1, 1, 2, 1, 2, 2, 1, 1, 2, 1, 1, 1, 2, 1, -1, 2, 1, 2, 1, -1, 2, 1, 1, 1, 1, 2, 1, 2, 1, 2, 1, -1, 1, 1, 2, 2, -1, 1, -1, 2, 1, -1, 1, 1, 2, 1, -1, 1, 1, 1, 1, 1, 1, 1, 1, 1, 1, 2, 1, -1, 1, 1, 1, 2, 1, 1, 1, 1, -1, 2, 1, 1, 2, 1, 1, 1, 1, 1, 2, 1, 2, 1, 1, 1, 1, 2, 1, 1, 1, 1, 2, 1, -1, 1, 1, 2, 1, 2, 2, 2, -1, 2, 2, 1, 1, 1, 1, 1, 1, 1, 1, 1, -1, 1, -1, 1, 2, 2, 1, 1, -1, 1, -1, 1, 1, 1, 1, 2, 2, 1, 1, 1, 1, 1, 2, 1, 1, 1, 2, 1, 2, 2, 1, 2, 1, 2, 1, 1, 1, 2, 1, 1, 1, 2, 2, 1, 1, 1, 1, 1, 1, 1, 1, -1, 1, 2, 1, -1, -1, 1, 2, 1, 1, 2, 1, 1, 2, 1, 1, 1, 1, 1, 2, 1, 1, 1, 1, 1, 1, -1, -1, -1, -1, 1, 2, -1, 2, 1, 2, 1, -1, 1, -1, 2, 1, 2, 2, 1, 2, 1, 2, 1, -1, 2, 2, 1, 1, 1, -1, 1, 2, 1, 1, 1, 1, 2, 1, 1, -1, -1, 1, 2, 2, 2, 1, 1, 1, -1, 1, 2, 1, 1, 1, 1, 1, -1, -1, 1, 1, 1, 1, 1, 1, 2, 1, 2, 1, 1, 2, 2, 2, 1, 1, 1, 1, -1, 1, 2, 2, 1, 1, 1, 1, 1, 2, 1, 1, -1, 1, 2, 2, 1, 1, 1, 1, 2, 2, 1, 1, 1, 1, 1, 1, 1, 1, 1, -1, 2, 1, 1, 2, 2, 2, 1, -1, 1, 2, -1, -1, 2, 1, 2, 2, 2, 2, -1, 1, 2, 1, 2, -1, 1, 1, 2, 2, 1, 1, 2, 1, 1, 1, 1, 2, 1, 1, 1, 1, 2, 2, 2, 1, 1, 1, 1, 1, 2, 1, 1, -1, 1, 2, 1, 1, 1, 1, 1, 1, 1, 1, 2, 2, 1, 2, 1, 1, 1, 1, 2, 1, -1, 1, 2, 1, 1, 1, 1, 1, -1, 2, 1, 2, 2, -1, -1, 1, 1, 1, 1, -1, 1, -1, 1, 2, 2, -1, 2, 1, 1, 1, -1, 2, 1, 2, 1, 1, 1, 1, -1, 1, 1, -1, 1, 1, 2, -1, 2, 1, 2, -1, 2, 2, 1, 1, 1, -1, 1, 2, 1, 1, 2, 1, 1, 2, 1, 2, 1, -1, 1, 2, -1, 2, 1, 1, 1, -1, -1, 1, -1, 1, 1, 1, -1, 1, 1, 1, 2, 2, 1, 1, 1, 1, 1, 1, 1, 2, 2, 1, 1, -1, 2, 1, 2, 1, 1, 1, 1, 2, 2, 1, -1, 1, 1, 1, 1, 1, 1, 1, 1, 1, 2, 2, -1, -1, 1, 1, 1, 1, 2, 1, 1, 1, 2, 1, 1, 1, 1, 1, 2, 1, 1, 2, 2, 1, 2, 1, 1, 1, 1, 1, 1, 1, 1, 1, 1, 1, 1, 1, 1, 1, 1, -1, 2, 1, 2, 1, 1, 1, -1, 1, 1, 1, 1, 2, 1, 2, 1, 1, 2, -1, -1, 2, 2, 2, 1, 1, 1, -1, 1, -1, 1, 1, 2, 1, 2, -1, -1, 2, 2, -1, 1, 1, 1, 2, 1, 2, 1, -1, 2, 2, 2, 1, 2, 2, 2, 2, 1, 1, 2, 1, 1, 1, 1, 1, -1, 2, 2, 1, -1, 2, 2, 1, 2, 2, 1, 1, 1, -1, 2, 2, 1, -1, 1, 2, 2, 1, 2, 1, 1, 1, 2, 2, 1, -1, 2, 1, 1, 2, 2, 2, 1, 1, -1, 1, 1, 2, 1, 1, 1, 1, 2, 2, 1, 1, 2, 1, 1, 1, 1, 2, 2, 1, 1, 2, 1, -1, 2, 1, 2, 1, 1, -1, 1, 2, 1, 1, -1, 1, 2, 2, -1, -1, 1, 1, 1, 1, 2, 1, 1, 2, -1, 1, 1, 1, -1, 1, 2, 2, 1, 1, 2, 1, 1, 1, 1, 2, 1, 1, 2, -1, 1, 1, 1, 2, 1, 2, 1, 2, 1, 1, 1, 1, 1, 2, 2, 1, 1, 1, 1, 1, 1, 1, 1, 1, 1, 2, 1, 2, 2, 1, 1, 1, 1, 1, 1, 2, 1, 1, 1, 1, 1, 1, 2, 1, 1, -1, 2, 1, 1, 1, 2, -1, 1, 1, 1, 1, -1, 1, 1, 1, 2, 1, -1, 1, 1, 2, 1, 2, 1, 1, 1, 1, 2, 1, 1, 2, -1, -1, 1, 1, 2, 1, 2, -1, 1, 1, 1, 2, 1, 1, 1, 2, -1, 2, -1, 2, 2, 2, 1, 2, 1, 1, 2, 1, 1, 1, 1, 1, 1, 2, 2, 1, 1, 1, 1, 2, 1, 1, 2, 1, 1, 1, 1, 1, 1, 2, 2, -1, 1, 2, 2, 1, 1, 1, -1, 2, 1, 1, 1, 1, 1, -1, 1, 1, 1, 1, 1, 1, 2, 1, -1, 1, 2, 2, 2, 2, 2, 1, 2, 2, 1, 2, 2, 1, 1, -1, 1, 2, 2, 1, 1, 2, 1, 2, 1, 1, 1, 1, 1, 2, 2, -1, -1, 2, 2, 2, 2, 1, -1, 1, 1, 2, 2, 1, 2, 1, 2, 2, 2, 1, 2, 1, 2, 1, 1, 1, 1, 1, 1, 1, 1, 2, -1, -1, 2, 2, 2, 1, 2, 1, 1, 1, -1, 1, 1, 1, 1, 1, 2, 2, -1, 2, -1, 1, -1, 1, 1, 1, -1, -1, 2, 2, 1, 2, -1, 1, 1, 1, -1, -1, -1, 2, 1, -1, 1, 1, 1, 1, -1, 2, 2, 2, 1, 1, 2, 2, 2, 1, 1, 2, 1, 1]\n"
     ]
    }
   ],
   "source": [
    "print(result)"
   ]
  },
  {
   "cell_type": "code",
   "execution_count": 77,
   "metadata": {},
   "outputs": [
    {
     "data": {
      "text/plain": [
       "592"
      ]
     },
     "execution_count": 77,
     "metadata": {},
     "output_type": "execute_result"
    }
   ],
   "source": [
    "result.count(1)"
   ]
  },
  {
   "cell_type": "code",
   "execution_count": 72,
   "metadata": {},
   "outputs": [
    {
     "name": "stdout",
     "output_type": "stream",
     "text": [
      "0.3331568241119385\n"
     ]
    },
    {
     "data": {
      "image/png": "[encoded data removed]",
      "text/plain": [
       "<Figure size 432x288 with 1 Axes>"
      ]
     },
     "metadata": {
      "needs_background": "light"
     },
     "output_type": "display_data"
    }
   ],
   "source": [
    "import time \n",
    "\n",
    "start_time = time.time()\n",
    " \n",
    "ITERATIONS = 1000\n",
    "result = []\n",
    "for i in range(ITERATIONS):\n",
    "    result.append(play_game())                \n",
    "\n",
    "end_time = time.time()\n",
    "\n",
    "print(end_time - start_time)\n",
    "\n",
    "#The library matplotlib.pyplot has already been stored as plt. Use plt.hist and plt.show to plot a \n",
    "#histogram of the results. Does Player 1 win more than Player 2? \n",
    "#Does either player win more than each player draws?\n",
    "\n",
    "import matplotlib.pyplot as plt\n",
    "\n",
    "plt.hist(result) \n",
    "plt.savefig('tic_tac_toe_Hist.pdf')\n",
    "plt.show()\n"
   ]
  },
  {
   "cell_type": "code",
   "execution_count": 73,
   "metadata": {},
   "outputs": [
    {
     "name": "stdout",
     "output_type": "stream",
     "text": [
      "[2, -1, 1, 1, 2, 1, 2, 1, 1, 1, 1, 2, 1, 1, 2, 2, 2, -1, 1, 1, 2, 1, 1, -1, 1, 1, 2, 1, 1, 1, 1, 2, 1, 2, 2, 1, 1, 2, 1, 1, 1, 2, 1, -1, 2, 1, 2, 1, -1, 2, 1, 1, 1, 1, 2, 1, 2, 1, 2, 1, -1, 1, 1, 2, 2, -1, 1, -1, 2, 1, -1, 1, 1, 2, 1, -1, 1, 1, 1, 1, 1, 1, 1, 1, 1, 1, 2, 1, -1, 1, 1, 1, 2, 1, 1, 1, 1, -1, 2, 1, 1, 2, 1, 1, 1, 1, 1, 2, 1, 2, 1, 1, 1, 1, 2, 1, 1, 1, 1, 2, 1, -1, 1, 1, 2, 1, 2, 2, 2, -1, 2, 2, 1, 1, 1, 1, 1, 1, 1, 1, 1, -1, 1, -1, 1, 2, 2, 1, 1, -1, 1, -1, 1, 1, 1, 1, 2, 2, 1, 1, 1, 1, 1, 2, 1, 1, 1, 2, 1, 2, 2, 1, 2, 1, 2, 1, 1, 1, 2, 1, 1, 1, 2, 2, 1, 1, 1, 1, 1, 1, 1, 1, -1, 1, 2, 1, -1, -1, 1, 2, 1, 1, 2, 1, 1, 2, 1, 1, 1, 1, 1, 2, 1, 1, 1, 1, 1, 1, -1, -1, -1, -1, 1, 2, -1, 2, 1, 2, 1, -1, 1, -1, 2, 1, 2, 2, 1, 2, 1, 2, 1, -1, 2, 2, 1, 1, 1, -1, 1, 2, 1, 1, 1, 1, 2, 1, 1, -1, -1, 1, 2, 2, 2, 1, 1, 1, -1, 1, 2, 1, 1, 1, 1, 1, -1, -1, 1, 1, 1, 1, 1, 1, 2, 1, 2, 1, 1, 2, 2, 2, 1, 1, 1, 1, -1, 1, 2, 2, 1, 1, 1, 1, 1, 2, 1, 1, -1, 1, 2, 2, 1, 1, 1, 1, 2, 2, 1, 1, 1, 1, 1, 1, 1, 1, 1, -1, 2, 1, 1, 2, 2, 2, 1, -1, 1, 2, -1, -1, 2, 1, 2, 2, 2, 2, -1, 1, 2, 1, 2, -1, 1, 1, 2, 2, 1, 1, 2, 1, 1, 1, 1, 2, 1, 1, 1, 1, 2, 2, 2, 1, 1, 1, 1, 1, 2, 1, 1, -1, 1, 2, 1, 1, 1, 1, 1, 1, 1, 1, 2, 2, 1, 2, 1, 1, 1, 1, 2, 1, -1, 1, 2, 1, 1, 1, 1, 1, -1, 2, 1, 2, 2, -1, -1, 1, 1, 1, 1, -1, 1, -1, 1, 2, 2, -1, 2, 1, 1, 1, -1, 2, 1, 2, 1, 1, 1, 1, -1, 1, 1, -1, 1, 1, 2, -1, 2, 1, 2, -1, 2, 2, 1, 1, 1, -1, 1, 2, 1, 1, 2, 1, 1, 2, 1, 2, 1, -1, 1, 2, -1, 2, 1, 1, 1, -1, -1, 1, -1, 1, 1, 1, -1, 1, 1, 1, 2, 2, 1, 1, 1, 1, 1, 1, 1, 2, 2, 1, 1, -1, 2, 1, 2, 1, 1, 1, 1, 2, 2, 1, -1, 1, 1, 1, 1, 1, 1, 1, 1, 1, 2, 2, -1, -1, 1, 1, 1, 1, 2, 1, 1, 1, 2, 1, 1, 1, 1, 1, 2, 1, 1, 2, 2, 1, 2, 1, 1, 1, 1, 1, 1, 1, 1, 1, 1, 1, 1, 1, 1, 1, 1, -1, 2, 1, 2, 1, 1, 1, -1, 1, 1, 1, 1, 2, 1, 2, 1, 1, 2, -1, -1, 2, 2, 2, 1, 1, 1, -1, 1, -1, 1, 1, 2, 1, 2, -1, -1, 2, 2, -1, 1, 1, 1, 2, 1, 2, 1, -1, 2, 2, 2, 1, 2, 2, 2, 2, 1, 1, 2, 1, 1, 1, 1, 1, -1, 2, 2, 1, -1, 2, 2, 1, 2, 2, 1, 1, 1, -1, 2, 2, 1, -1, 1, 2, 2, 1, 2, 1, 1, 1, 2, 2, 1, -1, 2, 1, 1, 2, 2, 2, 1, 1, -1, 1, 1, 2, 1, 1, 1, 1, 2, 2, 1, 1, 2, 1, 1, 1, 1, 2, 2, 1, 1, 2, 1, -1, 2, 1, 2, 1, 1, -1, 1, 2, 1, 1, -1, 1, 2, 2, -1, -1, 1, 1, 1, 1, 2, 1, 1, 2, -1, 1, 1, 1, -1, 1, 2, 2, 1, 1, 2, 1, 1, 1, 1, 2, 1, 1, 2, -1, 1, 1, 1, 2, 1, 2, 1, 2, 1, 1, 1, 1, 1, 2, 2, 1, 1, 1, 1, 1, 1, 1, 1, 1, 1, 2, 1, 2, 2, 1, 1, 1, 1, 1, 1, 2, 1, 1, 1, 1, 1, 1, 2, 1, 1, -1, 2, 1, 1, 1, 2, -1, 1, 1, 1, 1, -1, 1, 1, 1, 2, 1, -1, 1, 1, 2, 1, 2, 1, 1, 1, 1, 2, 1, 1, 2, -1, -1, 1, 1, 2, 1, 2, -1, 1, 1, 1, 2, 1, 1, 1, 2, -1, 2, -1, 2, 2, 2, 1, 2, 1, 1, 2, 1, 1, 1, 1, 1, 1, 2, 2, 1, 1, 1, 1, 2, 1, 1, 2, 1, 1, 1, 1, 1, 1, 2, 2, -1, 1, 2, 2, 1, 1, 1, -1, 2, 1, 1, 1, 1, 1, -1, 1, 1, 1, 1, 1, 1, 2, 1, -1, 1, 2, 2, 2, 2, 2, 1, 2, 2, 1, 2, 2, 1, 1, -1, 1, 2, 2, 1, 1, 2, 1, 2, 1, 1, 1, 1, 1, 2, 2, -1, -1, 2, 2, 2, 2, 1, -1, 1, 1, 2, 2, 1, 2, 1, 2, 2, 2, 1, 2, 1, 2, 1, 1, 1, 1, 1, 1, 1, 1, 2, -1, -1, 2, 2, 2, 1, 2, 1, 1, 1, -1, 1, 1, 1, 1, 1, 2, 2, -1, 2, -1, 1, -1, 1, 1, 1, -1, -1, 2, 2, 1, 2, -1, 1, 1, 1, -1, -1, -1, 2, 1, -1, 1, 1, 1, 1, -1, 2, 2, 2, 1, 1, 2, 2, 2, 1, 1, 2, 1, 1]\n"
     ]
    }
   ],
   "source": [
    "print(result)"
   ]
  },
  {
   "cell_type": "code",
   "execution_count": 74,
   "metadata": {},
   "outputs": [
    {
     "data": {
      "text/plain": [
       "592"
      ]
     },
     "execution_count": 74,
     "metadata": {},
     "output_type": "execute_result"
    }
   ],
   "source": [
    "result.count(1)"
   ]
  },
  {
   "cell_type": "code",
   "execution_count": 78,
   "metadata": {},
   "outputs": [
    {
     "data": {
      "text/plain": [
       "1"
      ]
     },
     "execution_count": 78,
     "metadata": {},
     "output_type": "execute_result"
    }
   ],
   "source": [
    "def play_strategic_game():\n",
    "    board, winner = create_board(), 0\n",
    "    board[1,1] = 1\n",
    "    while winner == 0:\n",
    "        for player in [2,1]:\n",
    "            board = random_place(board, player)\n",
    "            winner = evaluate(board)\n",
    "            if winner != 0:\n",
    "                break\n",
    "    return winner    \n",
    "\n",
    "#Call play_strategic_game once.\n",
    "\n",
    "play_strategic_game() "
   ]
  },
  {
   "cell_type": "code",
   "execution_count": 79,
   "metadata": {},
   "outputs": [
    {
     "name": "stdout",
     "output_type": "stream",
     "text": [
      "0.2725212574005127\n"
     ]
    },
    {
     "data": {
      "image/png": "[encoded data removed]",
      "text/plain": [
       "<Figure size 432x288 with 1 Axes>"
      ]
     },
     "metadata": {
      "needs_background": "light"
     },
     "output_type": "display_data"
    }
   ],
   "source": [
    "\n",
    "start_time = time.time()\n",
    "\n",
    "ITERATIONS = 1000\n",
    "result2 = []\n",
    "for i in range(ITERATIONS):\n",
    "    result2.append(play_strategic_game()) \n",
    "                                                                           \n",
    "end_time = time.time()\n",
    "\n",
    "print(end_time - start_time)\n",
    "\n",
    "\n",
    "\n",
    "#The library matplotlib.pyplot has already been stored as plt. Use plt.hist and plt.show to plot your results. \n",
    "#Did Player 1's performance improve? Does either player win more than each player draws?\n",
    "\n",
    "plt.hist(result2)\n",
    "plt.savefig('tic_tac_toe_Hist_2.pdf')\n",
    "plt.show()\n"
   ]
  },
  {
   "cell_type": "code",
   "execution_count": 81,
   "metadata": {},
   "outputs": [
    {
     "data": {
      "text/plain": [
       "699"
      ]
     },
     "execution_count": 81,
     "metadata": {},
     "output_type": "execute_result"
    }
   ],
   "source": [
    "result2.count(1)"
   ]
  },
  {
   "cell_type": "code",
   "execution_count": 82,
   "metadata": {},
   "outputs": [
    {
     "data": {
      "text/plain": [
       "581"
      ]
     },
     "execution_count": 82,
     "metadata": {},
     "output_type": "execute_result"
    }
   ],
   "source": [
    "def play_game():\n",
    "    board = create_board()\n",
    "    winner = 0\n",
    "    while winner == 0:\n",
    "        for player in [1, 2]:\n",
    "            random_place(board, player)\n",
    "            winner = evaluate(board)\n",
    "            if winner != 0:\n",
    "                break\n",
    "    return winner\n",
    "\n",
    "results = [play_game() for i in range(1000)]\n",
    "results.count(1)"
   ]
  },
  {
   "cell_type": "code",
   "execution_count": null,
   "metadata": {},
   "outputs": [],
   "source": []
  }
 ],
 "metadata": {
  "kernelspec": {
   "display_name": "Python 3",
   "language": "python",
   "name": "python3"
  },
  "language_info": {
   "codemirror_mode": {
    "name": "ipython",
    "version": 3
   },
   "file_extension": ".py",
   "mimetype": "text/x-python",
   "name": "python",
   "nbconvert_exporter": "python",
   "pygments_lexer": "ipython3",
   "version": "3.7.6"
  }
 },
 "nbformat": 4,
 "nbformat_minor": 2
}
